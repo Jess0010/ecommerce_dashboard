{
 "cells": [
  {
   "cell_type": "markdown",
   "id": "9fff14fb",
   "metadata": {
    "editable": true,
    "slideshow": {
     "slide_type": ""
    },
    "tags": []
   },
   "source": [
    "# Regression template for Seaborn example datasets"
   ]
  },
  {
   "cell_type": "markdown",
   "id": "596183ca",
   "metadata": {},
   "source": [
    "## Task\n",
    "\n",
    "We are going to build a linear regression model and evaluate its performance. For a regression we need:\n",
    "\n",
    "- A dependent variable. This is the one we will predict. For a regression model this needs to be a continuous variable.\n",
    "- One or more independent variables. These are the ones we are using to predict the dependent variable. For a regression all of these need to be numerical and at least some need to be continuous.\n",
    "\n",
    "For a linear regression model, our hypothesis is that our dependent variable:\n",
    "\n",
    "- Is influenced by each of the independent variables: the independent variable affects the dependent\n",
    "- Has a relationship with each independent variable that is linear\n",
    "- Has a similar distribution to each of the independent variables\n",
    "- Is influenced more strongly by each independent variable than the influence they have on each other"
   ]
  },
  {
   "cell_type": "markdown",
   "id": "5b54a7e4",
   "metadata": {},
   "source": [
    "<a id='Contents'></a>\n",
    "## Contents\n",
    "In this notebook, we will:<b>\n",
    "\n",
    "- [Import](#import) packages and load in some data \n",
    "- [Prepare](#prepare) the data so we can explore it\n",
    "- [Explore](#explore) the data and make our testable hypothesis\n",
    "- [Split](#split) the data for test and train\n",
    "- [Build](#build) the model \n",
    "- [Interpret](#interpret) the model results"
   ]
  },
  {
   "cell_type": "markdown",
   "id": "546f43a5",
   "metadata": {},
   "source": [
    "<div class=\"alert alert-block alert-warning\">\n",
    "<b>Reminder:</b> <br>\n",
    "You don't need to understand all the code here for now, just look for:\n",
    "<ul>\n",
    "<li> What we are trying to do with each code cell. How does it fit in our objective?\n",
    "<li> What the outputs of each code cell tell us? Are we reading too much into the results of each code cell?\n",
    "<li> Some of the code cells will have parts that you will need to change to fit your data. You will be told what to change in the comment before the code cell.\n",
    "</ul>\n",
    "</div>"
   ]
  },
  {
   "cell_type": "markdown",
   "id": "79d28584",
   "metadata": {},
   "source": [
    "<a id=\"import\"></a>\n",
    "## Import packages and read data\n",
    "[Back to Contents](#Contents)\n",
    "\n",
    "Let's start by importing the Python packages we will need:\n",
    "- [**pandas**](https://pandas.pydata.org/): a tabular data manipulation package\n",
    "- [**seaborn**](https://seaborn.pydata.org/): a data visualisation package\n",
    "- [**scikit-learn**](https://scikit-learn.org/): a model building package\n",
    "- [**statsmodels.api**](https://www.statsmodels.org/): a model building package"
   ]
  },
  {
   "cell_type": "code",
   "execution_count": null,
   "id": "32ae0351",
   "metadata": {},
   "outputs": [],
   "source": [
    "import pandas as pd\n",
    "import seaborn as sns\n",
    "import statsmodels.api as sm\n",
    "\n",
    "from sklearn.model_selection import train_test_split\n",
    "from sklearn.metrics import r2_score, mean_squared_error"
   ]
  },
  {
   "cell_type": "markdown",
   "id": "7409f372",
   "metadata": {},
   "source": [
    "We will be using one of these Seaborn [example datasets](https://github.com/mwaskom/seaborn-data):\n",
    "\n",
    "- `Taxis`: New York taxi journeys \n",
    "- `titanic`: Records of details of passengers on the Titanic\n",
    "- `tips`: Restaurant bills and tips\n",
    "- `penguins`: Physical details of various penguins\n",
    "- `iris`: Measurements of different Iris flowers\n",
    "\n",
    "These can be loaded using the Seaborn function [`load_dataset`](https://seaborn.pydata.org/generated/seaborn.load_dataset.html). We can have a look at the first few rows using the method [`head`](https://pandas.pydata.org/docs/reference/api/pandas.DataFrame.head.html)"
   ]
  },
  {
   "cell_type": "code",
   "execution_count": null,
   "id": "543ee6c4",
   "metadata": {},
   "outputs": [],
   "source": [
    "data = sns.load_dataset('Taxis')\n",
    "data.head()"
   ]
  },
  {
   "cell_type": "markdown",
   "id": "aaf46257",
   "metadata": {},
   "source": [
    "<a id=\"prepare\"></a>\n",
    "### Prepare the data\n",
    "[Back to Contents](#Contents)\n",
    "\n",
    "For this notebook we are assuming the data has been prepared before being loaded in. However, it is always important to check that you have what you expect.\n",
    "\n",
    "We can look at what kind of data our table contains using the [`info`](https://pandas.pydata.org/docs/reference/api/pandas.DataFrame.iloc.html) method. \n",
    "\n",
    "We should be asking ourselves:\n",
    "\n",
    "- Does the data contain the columns I expect?\n",
    "- Do the columns have the data type I would expect?\n",
    "- Do any of the columns have missing values? Are these in any columns we intend to use? There cannot be any null values in the rows we plan to use in our model."
   ]
  },
  {
   "cell_type": "code",
   "execution_count": null,
   "id": "f3d124d4",
   "metadata": {},
   "outputs": [],
   "source": [
    "data.info()"
   ]
  },
  {
   "cell_type": "markdown",
   "id": "e8e7df1c",
   "metadata": {},
   "source": [
    "If we have any columns with null values that we want to use in our model, we will need to drop those pieces of data. Pandas gives us the [`dropna`](https://pandas.pydata.org/docs/reference/api/pandas.DataFrame.dropna.html) method to do this. If you only need to drop null values from one column you can use the `subset` parameter to pass a list of the columns you wish to be checked for null values.\n",
    "\n",
    "This piece of code has been commented out, so it will not run. To use this, remove the `#` from the start of the line and replace `'variable name'` with the column that you wish to be checked for null values. You can examine more than one column at a time by listing all the columns in the square brackets."
   ]
  },
  {
   "cell_type": "code",
   "execution_count": null,
   "id": "68f74e9e",
   "metadata": {},
   "outputs": [],
   "source": [
    "# data = data.dropna(subset=['variable name', ])"
   ]
  },
  {
   "cell_type": "markdown",
   "id": "8db85baf",
   "metadata": {},
   "source": [
    "If one of the columns is only useful as a unique row identifier, we can use it as an index. We can set it using the [`set_index`](https://pandas.pydata.org/docs/reference/api/pandas.DataFrame.set_index.html) method. Replace `'index column name'` with the column that you wish to set as the index. If you need this, remove the `#` to uncomment the code."
   ]
  },
  {
   "cell_type": "code",
   "execution_count": null,
   "id": "02e66f9c",
   "metadata": {},
   "outputs": [],
   "source": [
    "#data = data.set_index('ID column name')"
   ]
  },
  {
   "cell_type": "markdown",
   "id": "a1ea8f8a",
   "metadata": {},
   "source": [
    "---\n",
    "<a id=\"explore\"></a>\n",
    "### Exploring the data\n",
    "[Back to Contents](#Contents)\n",
    "\n",
    "Now that we have checked our data is clean, we can explore it. A good starting point is to look at the descriptive statistics and check that they seem reasonable. We can do so using the [`describe`](https://pandas.pydata.org/docs/reference/api/pandas.DataFrame.describe.html) method.\n",
    "\n",
    "We should be asking ourselves:\n",
    "\n",
    "- Does the data have unexpected outliers (looking at the max and min values) that might suggest a data quality issue?\n",
    "- Is the spread of the data what you would expect?"
   ]
  },
  {
   "cell_type": "code",
   "execution_count": null,
   "id": "20408ee0",
   "metadata": {},
   "outputs": [],
   "source": [
    "data.describe()"
   ]
  },
  {
   "cell_type": "markdown",
   "id": "bbef70c6",
   "metadata": {},
   "source": [
    "It is helpful to do these checks visually. Histograms will help us see the distribution of a variable and scatter plots will show us the relationship between variables. Seaborn allows us to plot these using the functions [`histplot`](https://seaborn.pydata.org/generated/seaborn.histplot.html) for histograms and [`scatterplot`](https://seaborn.pydata.org/generated/seaborn.scatterplot.html) for scatter plots."
   ]
  },
  {
   "cell_type": "code",
   "execution_count": null,
   "id": "1f447e79",
   "metadata": {},
   "outputs": [],
   "source": [
    "sns.histplot(data=data, x='dependent variable name');"
   ]
  },
  {
   "cell_type": "code",
   "execution_count": null,
   "id": "aa1192b0",
   "metadata": {},
   "outputs": [],
   "source": [
    "sns.scatterplot(data=data, x='variable name 1', y='dependent variable name');"
   ]
  },
  {
   "cell_type": "markdown",
   "id": "1a4f95d9",
   "metadata": {},
   "source": [
    "It can be helpful to plot all the histograms and scatter plots in one go. Seaborn allows us to do this using a [`pairplot`](https://seaborn.pydata.org/generated/seaborn.pairplot.html)."
   ]
  },
  {
   "cell_type": "code",
   "execution_count": null,
   "id": "ceaa31cc",
   "metadata": {},
   "outputs": [],
   "source": [
    "sns.pairplot(data);"
   ]
  },
  {
   "cell_type": "markdown",
   "id": "5ba5b60d",
   "metadata": {},
   "source": [
    "The scatter plots help us to understand what kind of relationships there are between our variables and how strong they are. We can also quantify this using the Pandas method [`corr`](https://pandas.pydata.org/docs/reference/api/pandas.DataFrame.corr.html)"
   ]
  },
  {
   "cell_type": "code",
   "execution_count": null,
   "id": "f3d86d1f",
   "metadata": {},
   "outputs": [],
   "source": [
    "data.corr(numeric_only=False)"
   ]
  },
  {
   "cell_type": "markdown",
   "id": "66adb3cc",
   "metadata": {},
   "source": [
    "### Confirm your hypothesis\n",
    "\n",
    "Now that you have explored your data and seen the relationships in it, you can pick the independent variables you want to use to predict your dependent variable. Remember, for your independent variables to be useful in predicting the dependent variable, they need to:\n",
    "\n",
    "- influence the dependent variable\n",
    "- Have a linear relationship with the dependent variable\n",
    "- Have a similar distribution to the dependent variable\n",
    "- Influences more the dependent variable than any of the other chosen independent variables"
   ]
  },
  {
   "cell_type": "markdown",
   "id": "34d1d4fa",
   "metadata": {},
   "source": [
    "---\n",
    "<a id=\"split\"></a>\n",
    "## Train and test split of data\n",
    "[Back to Contents](#Contents)\n",
    "\n",
    "We can use the scikit-learn function [`train_test_split`]() to divide our data in two: 80% in `train_data` and 20% in `test_data`"
   ]
  },
  {
   "cell_type": "code",
   "execution_count": null,
   "id": "9dcfa290",
   "metadata": {},
   "outputs": [],
   "source": [
    "train_data, test_data = train_test_split(data, \n",
    "                                         test_size= 0.2, \n",
    "                                         random_state= 42)"
   ]
  },
  {
   "cell_type": "markdown",
   "id": "c1169f7a",
   "metadata": {},
   "source": [
    "---\n",
    "<a id=\"build\"></a>\n",
    "## Build the model\n",
    "[Back to Contents](#Contents)\n",
    "\n",
    "Now we have our data in a form we can build our linear regression model."
   ]
  },
  {
   "cell_type": "markdown",
   "id": "7ec31134",
   "metadata": {},
   "source": [
    "Our predictor variables, the independent variables, are:"
   ]
  },
  {
   "cell_type": "code",
   "execution_count": null,
   "id": "3d0628d5",
   "metadata": {},
   "outputs": [],
   "source": [
    "independent_variable_names = ['variable name 1', 'variable name 2']"
   ]
  },
  {
   "cell_type": "markdown",
   "id": "55e0b355",
   "metadata": {},
   "source": [
    "Our predicted variable, the dependent variable, is:"
   ]
  },
  {
   "cell_type": "code",
   "execution_count": null,
   "id": "5dab504a",
   "metadata": {},
   "outputs": [],
   "source": [
    "dependent_variable_name = 'dependent variable name'"
   ]
  },
  {
   "cell_type": "markdown",
   "id": "a883c1fd",
   "metadata": {},
   "source": [
    "We will use statsmodels Ordinary Least Squares [`ols`](https://www.statsmodels.org/dev/regression.html) function."
   ]
  },
  {
   "cell_type": "code",
   "execution_count": null,
   "id": "eefbfeda",
   "metadata": {},
   "outputs": [],
   "source": [
    "independent_vars = train_data[independent_variable_names]\n",
    "independent_vars = sm.add_constant(independent_vars)\n",
    "\n",
    "data_model = sm.OLS(train_data[dependent_variable_name], independent_vars).fit()\n",
    "data_model.summary()"
   ]
  },
  {
   "cell_type": "markdown",
   "id": "5e670e16",
   "metadata": {},
   "source": [
    "---\n",
    "<a id=\"interpret\"></a>\n",
    "## Interpret the model results\n",
    "[Back to Contents](#Contents)\n",
    "\n",
    "Now we have built the model we can look at the model quality and what it tells us.\n",
    "\n",
    "- The **R squared** is a measure of how much of the variation in dependent variable is explained by the independent variables.\n",
    "- The **Adj. R-squared** gives us an understanding of how much of the variation in dependent variable is explained by the independent variables. It is useful when there is more than one independent variable"
   ]
  },
  {
   "cell_type": "markdown",
   "id": "6f7163e0",
   "metadata": {},
   "source": [
    "The coefficients will give us the equation for our linear regression model line:\n",
    "\n",
    "$$\\hat{Y} = \\text{const} + \\text{coeff} \\times X$$\n",
    "\n",
    "How accurate are the estimated coefficients?\n",
    "Do all of our independent variables contribute to the model?\n"
   ]
  },
  {
   "cell_type": "markdown",
   "id": "aaf4d6cf",
   "metadata": {},
   "source": [
    "---\n",
    "<a id=\"evaluate\"></a>\n",
    "## Evaluate the model predictions using the test data\n",
    "[Back to Contents](#Contents)\n",
    "\n",
    "We can now calculate the model predictions using the `test_data`"
   ]
  },
  {
   "cell_type": "code",
   "execution_count": null,
   "id": "70d6069b",
   "metadata": {},
   "outputs": [],
   "source": [
    "predictions = data_model.predict(sm.add_constant(test_data[independent_variable_names]))"
   ]
  },
  {
   "cell_type": "markdown",
   "id": "b2e0e92f",
   "metadata": {},
   "source": [
    "A visual comparison between the predicted and actual values of the dependent variable will help us to guage the quality of the predictions. If they match, then they should all be along a straight line with a gradient of 1: as the actual values increase by 1, so too do the predictions."
   ]
  },
  {
   "cell_type": "code",
   "execution_count": null,
   "id": "8bbf6a1a",
   "metadata": {},
   "outputs": [],
   "source": [
    "# Generate the scatter plot\n",
    "ax = sns.scatterplot(x=test_data[dependent_variable_name], y=predictions)\n",
    "ax.set_ylabel(f'Model predictions for {dependent_variable_name}')\n",
    "\n",
    "# Find the start and end of the best prediction line\n",
    "dependent_min = int(test_data[dependent_variable_name].min())\n",
    "dependent_max = int(test_data[dependent_variable_name].max())\n",
    "\n",
    "# Plot the best prediction line\n",
    "sns.lineplot(x=range(dependent_min,dependent_max), y=range(dependent_min, dependent_max), c='k', ax=ax);"
   ]
  },
  {
   "cell_type": "markdown",
   "id": "1b8e0652",
   "metadata": {},
   "source": [
    "We can also use these predictions to calculate the mean squared error, using `mean_squared_error`, and the r-squared, using `r2_score`. How do the R-squared values compare for the training data and the test data? Is the model likely to be useful for predicting the population?"
   ]
  },
  {
   "cell_type": "code",
   "execution_count": null,
   "id": "38f425c5",
   "metadata": {},
   "outputs": [],
   "source": [
    "print(\"mean squared error \\t\", mean_squared_error(test_data[dependent_variable_name], predictions))\n",
    "print(\"R-squared model \\t\", data_model.rsquared)\n",
    "print(\"R-squared predictions \\t\", r2_score(test_data[dependent_variable_name], predictions))"
   ]
  },
  {
   "cell_type": "code",
   "execution_count": null,
   "id": "85160f8f",
   "metadata": {},
   "outputs": [],
   "source": []
  }
 ],
 "metadata": {
  "jupytext": {
   "formats": "ipynb,md"
  },
  "kernelspec": {
   "display_name": "Python 3 (ipykernel)",
   "language": "python",
   "name": "python3"
  },
  "language_info": {
   "codemirror_mode": {
    "name": "ipython",
    "version": 3
   },
   "file_extension": ".py",
   "mimetype": "text/x-python",
   "name": "python",
   "nbconvert_exporter": "python",
   "pygments_lexer": "ipython3",
   "version": "3.12.0"
  }
 },
 "nbformat": 4,
 "nbformat_minor": 5
}
